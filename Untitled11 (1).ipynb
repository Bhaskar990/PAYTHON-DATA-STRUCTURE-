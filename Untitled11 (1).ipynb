{
  "nbformat": 4,
  "nbformat_minor": 0,
  "metadata": {
    "colab": {
      "provenance": []
    },
    "kernelspec": {
      "name": "python3",
      "display_name": "Python 3"
    },
    "language_info": {
      "name": "python"
    }
  },
  "cells": [
    {
      "cell_type": "markdown",
      "source": [
        "Q.1 \" Write a code to reverse a string."
      ],
      "metadata": {
        "id": "BKM3wQiPmssp"
      }
    },
    {
      "cell_type": "code",
      "source": [
        "def reverse_string(s):\n",
        "    return s[::-1]\n",
        "\n",
        "# Example usage\n",
        "input_string = \"Hello, World!\"\n",
        "reversed_string = reverse_string(input_string)\n",
        "print(reversed_string)  # Output: !dlroW ,olleH"
      ],
      "metadata": {
        "id": "vfK6cLQ2m4Ib"
      },
      "execution_count": null,
      "outputs": []
    },
    {
      "cell_type": "markdown",
      "source": [
        "Q. 2 Write a code to count the number of vowels in a string."
      ],
      "metadata": {
        "id": "n8msq2ZTnNbL"
      }
    },
    {
      "cell_type": "code",
      "source": [
        "def count_vowels(s):\n",
        "    vowels = \"aeiouAEIOU\"\n",
        "    count = sum(1 for char in s if char in vowels)\n",
        "    return count\n",
        "\n",
        "# Example usage\n",
        "input_string = \"Hello, World!\"\n",
        "vowel_count = count_vowels(input_string)\n",
        "print(vowel_count)  # Output: 3"
      ],
      "metadata": {
        "id": "JQLUmJmjnWJo"
      },
      "execution_count": null,
      "outputs": []
    },
    {
      "cell_type": "markdown",
      "source": [
        "Q.3 Write a code to check if a given string is a palindrome or not."
      ],
      "metadata": {
        "id": "JK8dS-aIn2jv"
      }
    },
    {
      "cell_type": "code",
      "source": [
        "def is_palindrome(s):\n",
        "    # Remove spaces and convert to lowercase\n",
        "    s = s.replace(\" \", \"\").lower()\n",
        "    return s == s[::-1]\n",
        "\n",
        "# Example usage\n",
        "input_string = \"A man a plan a canal Panama\"\n",
        "result = is_palindrome(input_string)\n",
        "print(result)  # Output: True"
      ],
      "metadata": {
        "id": "AU16w3V2n9E3"
      },
      "execution_count": null,
      "outputs": []
    },
    {
      "cell_type": "markdown",
      "source": [
        "Q.4 Write a code to check if two given strings are anagrams of each other."
      ],
      "metadata": {
        "id": "CUOR3WrloZW1"
      }
    },
    {
      "cell_type": "code",
      "source": [
        "def are_anagrams(s1, s2):\n",
        "    # Remove spaces and convert to lowercase\n",
        "    s1 = s1.replace(\" \", \"\").lower()\n",
        "    s2 = s2.replace(\" \", \"\").lower()\n",
        "    return sorted(s1) == sorted(s2)\n",
        "\n",
        "# Example usage\n",
        "string1 = \"Listen\"\n",
        "string2 = \"Silent\"\n",
        "result = are_anagrams(string1, string2)\n",
        "print(result)  # Output: True"
      ],
      "metadata": {
        "id": "FsdHCYdGofSI"
      },
      "execution_count": null,
      "outputs": []
    },
    {
      "cell_type": "markdown",
      "source": [
        "Q.5 Write a code to find all occurrences of a given substring within another string"
      ],
      "metadata": {
        "id": "K4iuCzlFpa5n"
      }
    },
    {
      "cell_type": "code",
      "source": [
        "def find_all_occurrences(string, substring):\n",
        "    start = 0\n",
        "    occurrences = []\n",
        "    while True:\n",
        "        start = string.find(substring, start)\n",
        "        if start == -1:\n",
        "            break\n",
        "        occurrences.append(start)\n",
        "        start += 1  # Move to the next character after the found substring\n",
        "    return occurrences\n",
        "\n",
        "# Example usage\n",
        "main_string = \"This is a test string. This is only a test.\"\n",
        "substring = \"test\"\n",
        "result = find_all_occurrences(main_string, substring)\n",
        "print(result)  # Output: [10, 36]"
      ],
      "metadata": {
        "id": "kLpXzkBcphYl"
      },
      "execution_count": null,
      "outputs": []
    },
    {
      "cell_type": "markdown",
      "source": [
        "Q.6 Write a code to perform basic string compression using the counts of repeated characters."
      ],
      "metadata": {
        "id": "mPjGTJrup8z0"
      }
    },
    {
      "cell_type": "code",
      "source": [
        "def compress_string(s):\n",
        "    if not s:\n",
        "        return \"\"\n",
        "\n",
        "    compressed = []\n",
        "    count = 1\n",
        "\n",
        "    for i in range(1, len(s)):\n",
        "        if s[i] == s[i - 1]:\n",
        "            count += 1\n",
        "        else:\n",
        "            compressed.append(s[i - 1] + str(count))\n",
        "            count = 1\n",
        "\n",
        "    compressed.append(s[-1] + str(count))  # Add the last character and its count\n",
        "    return ''.join(compressed)\n",
        "\n",
        "# Example usage\n",
        "input_string = \"aaabbcdddde\"\n",
        "compressed_string = compress_string(input_string)\n",
        "print(compressed_string)  # Output: a3b2c1d4e1"
      ],
      "metadata": {
        "id": "BJOfVHrNqRjq"
      },
      "execution_count": null,
      "outputs": []
    },
    {
      "cell_type": "markdown",
      "source": [
        "Q.7  Write a code to determine if a string has all unique characters."
      ],
      "metadata": {
        "id": "lC8EdAFPqutM"
      }
    },
    {
      "cell_type": "code",
      "source": [
        "def has_unique_characters(s):\n",
        "    return len(set(s)) == len(s)\n",
        "\n",
        "# Example usage\n",
        "input_string = \"abcdefg\"\n",
        "result = has_unique_characters(input_string)\n",
        "print(result)  # Output: True\n",
        "\n",
        "input_string = \"abcdeaf\"\n",
        "result = has_unique_characters(input_string)\n",
        "print(result)  # Output: False"
      ],
      "metadata": {
        "id": "yEK4mCV5q34H"
      },
      "execution_count": null,
      "outputs": []
    },
    {
      "cell_type": "markdown",
      "source": [
        "Q.8 Write a code to convert a given string to uppercase or lowercase."
      ],
      "metadata": {
        "id": "OMGrDCyIrFrf"
      }
    },
    {
      "cell_type": "code",
      "source": [
        "def convert_to_uppercase(s):\n",
        "    return s.upper()\n",
        "\n",
        "def convert_to_lowercase(s):\n",
        "    return s.lower()\n",
        "\n",
        "# Example usage\n",
        "input_string = \"Hello, World!\"\n",
        "uppercase_string = convert_to_uppercase(input_string)\n",
        "lowercase_string = convert_to_lowercase(input_string)\n",
        "\n",
        "print(uppercase_string)  # Output: HELLO, WORLD!\n",
        "print(lowercase_string)  # Output: hello, world!"
      ],
      "metadata": {
        "colab": {
          "base_uri": "https://localhost:8080/"
        },
        "id": "N5ZOj36grNFF",
        "outputId": "bee84121-c68c-44b8-b95a-3a26122931d5"
      },
      "execution_count": 6,
      "outputs": [
        {
          "output_type": "stream",
          "name": "stdout",
          "text": [
            "HELLO, WORLD!\n",
            "hello, world!\n"
          ]
        }
      ]
    },
    {
      "cell_type": "markdown",
      "source": [
        "Q.9 Write a code to count the number of words in a string."
      ],
      "metadata": {
        "id": "M4XwyVY8rfn-"
      }
    },
    {
      "cell_type": "code",
      "source": [
        "def count_words(input_string):\n",
        "    # Split the string by whitespace and filter out empty strings\n",
        "    words = input_string.split()\n",
        "    return len(words)\n",
        "\n",
        "# Example usage\n",
        "input_string = \"Hello, how are you doing today?\"\n",
        "word_count = count_words(input_string)\n",
        "print(f\"Number of words: {word_count}\")  # Output: Number of words: 7"
      ],
      "metadata": {
        "id": "DIsMGpda1cC8"
      },
      "execution_count": null,
      "outputs": []
    },
    {
      "cell_type": "markdown",
      "source": [
        "Q.10 Write a code to concatenate two strings without using the + operator."
      ],
      "metadata": {
        "id": "JJ5CduEIru6f"
      }
    },
    {
      "cell_type": "code",
      "source": [
        "def concatenate_strings(s1, s2):\n",
        "    return ''.join([s1, s2])\n",
        "\n",
        "# Example usage\n",
        "string1 = \"Hello, \"\n",
        "string2 = \"World!\"\n",
        "result = concatenate_strings(string1, string2)\n",
        "print(result)  # Output: Hello, World!"
      ],
      "metadata": {
        "id": "dbnO99iCr6BH"
      },
      "execution_count": null,
      "outputs": []
    },
    {
      "cell_type": "markdown",
      "source": [
        "Q.11 Write a code to remove all occurrences of a specific element from a list."
      ],
      "metadata": {
        "id": "nc7xl_MtsECN"
      }
    },
    {
      "cell_type": "code",
      "source": [
        "def remove_occurrences(lst, element):\n",
        "    return [x for x in lst if x != element]\n",
        "\n",
        "# Example usage\n",
        "input_list = [1, 2, 3, 4, 2, 5, 2]\n",
        "element_to_remove = 2\n",
        "result = remove_occurrences(input_list, element_to_remove)\n",
        "print(result)  # Output: [1, 3, 4, 5]"
      ],
      "metadata": {
        "id": "UANTHGHNsSu-"
      },
      "execution_count": null,
      "outputs": []
    },
    {
      "cell_type": "markdown",
      "source": [
        "Q.12 Implement a code to find the second largest number in a given list of integers."
      ],
      "metadata": {
        "id": "L2rRaMaZscHt"
      }
    },
    {
      "cell_type": "code",
      "source": [
        "def second_largest(numbers):\n",
        "    unique_numbers = list(set(numbers))  # Remove duplicates\n",
        "    unique_numbers.sort()  # Sort the list\n",
        "    if len(unique_numbers) < 2:\n",
        "        return None  # Not enough unique numbers\n",
        "    return unique_numbers[-2]  # Return the second largest\n",
        "\n",
        "# Example usage\n",
        "input_list = [3, 1, 4, 4, 5, 2]\n",
        "result = second_largest(input_list)\n",
        "print(result)  # Output: 4"
      ],
      "metadata": {
        "colab": {
          "base_uri": "https://localhost:8080/"
        },
        "id": "4KGFR1FrskrV",
        "outputId": "bda920e0-069a-49a0-f734-ee8bb7e094ca"
      },
      "execution_count": 10,
      "outputs": [
        {
          "output_type": "stream",
          "name": "stdout",
          "text": [
            "4\n"
          ]
        }
      ]
    },
    {
      "cell_type": "markdown",
      "source": [
        "Q.13 Create a code to count the occurrences of each element in a list and return a dictionary with elements as\n",
        "keys and their counts as values."
      ],
      "metadata": {
        "id": "W6ryVPm0swQw"
      }
    },
    {
      "cell_type": "code",
      "source": [
        "def count_occurrences(lst):\n",
        "    counts = {}\n",
        "    for element in lst:\n",
        "        if element in counts:\n",
        "            counts[element] += 1\n",
        "        else:\n",
        "            counts[element] = 1\n",
        "    return counts\n",
        "\n",
        "# Example usage\n",
        "input_list = [1, 2, 2, 3, 1, 4, 1]\n",
        "result = count_occurrences(input_list)\n",
        "print(result)  # Output: {1: 3, 2: 2, 3: 1, 4: 1}"
      ],
      "metadata": {
        "id": "-IUIM6Ibs4YR"
      },
      "execution_count": null,
      "outputs": []
    },
    {
      "cell_type": "markdown",
      "source": [
        "Q.14 Write a code to reverse a list in-place without using any built-in reverse functions."
      ],
      "metadata": {
        "id": "evmlP53htR16"
      }
    },
    {
      "cell_type": "code",
      "source": [
        "def reverse_list(lst):\n",
        "    left, right = 0, len(lst) - 1\n",
        "    while left < right:\n",
        "        lst[left], lst[right] = lst[right], lst[left]  # Swap elements\n",
        "        left += 1\n",
        "        right -= 1\n",
        "\n",
        "# Example usage\n",
        "input_list = [1, 2, 3, 4, 5]\n",
        "reverse_list(input_list)\n",
        "print(input_list)  # Output: [5, 4, 3, 2, 1]"
      ],
      "metadata": {
        "id": "nuzqxGMgtb39"
      },
      "execution_count": null,
      "outputs": []
    },
    {
      "cell_type": "markdown",
      "source": [
        "Q.15 Implement a code to find and remove duplicates from a list while preserving the original order of\n",
        "elements."
      ],
      "metadata": {
        "id": "xl23WXM_t1l7"
      }
    },
    {
      "cell_type": "code",
      "source": [
        "def remove_duplicates(lst):\n",
        "    seen = set()\n",
        "    result = []\n",
        "    for item in lst:\n",
        "        if item not in seen:\n",
        "            seen.add(item)\n",
        "            result.append(item)\n",
        "    return result\n",
        "\n",
        "# Example usage\n",
        "input_list = [1, 2, 3, 2, 4, 1, 5]\n",
        "result = remove_duplicates(input_list)\n",
        "print(result)  # Output: [1, 2, 3, 4, 5]"
      ],
      "metadata": {
        "id": "GOj-MA6xt-Up"
      },
      "execution_count": null,
      "outputs": []
    },
    {
      "cell_type": "markdown",
      "source": [
        "Q.16 Create a code to check if a given list is sorted (either in ascending or descending order) or not.\n"
      ],
      "metadata": {
        "id": "l3Dm822WuLWk"
      }
    },
    {
      "cell_type": "code",
      "source": [
        "def is_sorted(lst):\n",
        "    if all(lst[i] <= lst[i + 1] for i in range(len(lst) - 1)):\n",
        "        return \"Ascending\"\n",
        "    elif all(lst[i] >= lst[i + 1] for i in range(len(lst) - 1)):\n",
        "        return \"Descending\"\n",
        "    else:\n",
        "        return \"Not Sorted\"\n",
        "\n",
        "# Example usage\n",
        "input_list1 = [1, 2, 3, 4, 5]\n",
        "input_list2 = [5, 4, 3, 2, 1]\n",
        "input_list3 = [1, 3, 2, 4, 5]\n",
        "\n",
        "print(is_sorted(input_list1))  # Output: Ascending\n",
        "print(is_sorted(input_list2))  # Output: Descending\n",
        "print(is_sorted(input_list3))  # Output: Not Sorted"
      ],
      "metadata": {
        "id": "mRt8NNFmuSaK"
      },
      "execution_count": null,
      "outputs": []
    },
    {
      "cell_type": "markdown",
      "source": [
        "Q.17 Write a code to merge two sorted lists into a single sorted list."
      ],
      "metadata": {
        "id": "kg9EwuidufkN"
      }
    },
    {
      "cell_type": "code",
      "source": [
        "def merge_sorted_lists(list1, list2):\n",
        "    merged_list = []\n",
        "    i, j = 0, 0\n",
        "\n",
        "    while i < len(list1) and j < len(list2):\n",
        "        if list1[i] < list2[j]:\n",
        "            merged_list.append(list1[i])\n",
        "            i += 1\n",
        "        else:\n",
        "            merged_list.append(list2[j])\n",
        "            j += 1\n",
        "\n",
        "    # Add remaining elements from list1\n",
        "    while i < len(list1):\n",
        "        merged_list.append(list1[i])\n",
        "        i += 1\n",
        "\n",
        "    # Add remaining elements from list2\n",
        "    while j < len(list2):\n",
        "        merged_list.append(list2[j])\n",
        "        j += 1\n",
        "\n",
        "    return merged_list\n",
        "\n",
        "# Example usage\n",
        "list1 = [1, 3, 5]\n",
        "list2 = [2, 4, 6]\n",
        "result = merge_sorted_lists(list1, list2)\n",
        "print(result)  # Output: [1, 2, 3, 4, 5, 6]"
      ],
      "metadata": {
        "id": "4mhUXnt-umBd"
      },
      "execution_count": null,
      "outputs": []
    },
    {
      "cell_type": "markdown",
      "source": [
        "Q.18 Implement a code to find the intersection of two given lists."
      ],
      "metadata": {
        "id": "ZE8eoMpru6zw"
      }
    },
    {
      "cell_type": "code",
      "source": [
        "def intersection(list1, list2):\n",
        "    return list(set(list1) & set(list2))\n",
        "\n",
        "# Example usage\n",
        "list1 = [1, 2, 3, 4, 5]\n",
        "list2 = [4, 5, 6, 7, 8]\n",
        "result = intersection(list1, list2)\n",
        "print(result)  # Output: [4, 5]"
      ],
      "metadata": {
        "id": "gEJGQ7ehvB3M"
      },
      "execution_count": null,
      "outputs": []
    },
    {
      "cell_type": "markdown",
      "source": [
        "Q.19 Create a code to find the union of two lists without duplicates."
      ],
      "metadata": {
        "id": "hd3lUoycvLnm"
      }
    },
    {
      "cell_type": "code",
      "source": [
        "def union(list1, list2):\n",
        "    return list(set(list1) | set(list2))\n",
        "\n",
        "# Example usage\n",
        "list1 = [1, 2, 3, 4, 5]\n",
        "list2 = [4, 5, 6, 7, 8]\n",
        "result = union(list1, list2)\n",
        "print(result)  # Output: [1, 2, 3, 4, 5, 6, 7, 8]"
      ],
      "metadata": {
        "id": "6nmv20f7vbyO"
      },
      "execution_count": null,
      "outputs": []
    },
    {
      "cell_type": "markdown",
      "source": [
        "Q.20 Write a code to shuffle a given list randomly without using any built-in shuffle functions."
      ],
      "metadata": {
        "id": "mySVlGlIvl5k"
      }
    },
    {
      "cell_type": "code",
      "source": [
        "import random\n",
        "\n",
        "def shuffle_list(lst):\n",
        "    for i in range(len(lst) - 1, 0, -1):\n",
        "        j = random.randint(0, i)  # Get a random index from 0 to i\n",
        "        lst[i], lst[j] = lst[j], lst[i]  # Swap elements\n",
        "    return lst\n",
        "\n",
        "# Example usage\n",
        "input_list = [1, 2, 3, 4, 5]\n",
        "shuffled_list = shuffle_list(input_list)\n",
        "print(shuffled_list)  # Output: Randomly shuffled list"
      ],
      "metadata": {
        "id": "F286A0ZdvwLh"
      },
      "execution_count": null,
      "outputs": []
    },
    {
      "cell_type": "markdown",
      "source": [
        "Q.21 Write a code that takes two tuples as input and returns a new tuple containing elements that are\n",
        "common to both input tuples."
      ],
      "metadata": {
        "id": "oJYR5QBjvxzA"
      }
    },
    {
      "cell_type": "code",
      "source": [
        "def common_elements(tuple1, tuple2):\n",
        "    # Use set intersection to find common elements and convert back to tuple\n",
        "    return tuple(set(tuple1) & set(tuple2))\n",
        "\n",
        "# Example usage\n",
        "tuple1 = (1, 2, 3, 4, 5)\n",
        "tuple2 = (4, 5, 6, 7, 8)\n",
        "result = common_elements(tuple1, tuple2)\n",
        "print(result)  # Output: (4, 5)"
      ],
      "metadata": {
        "id": "_KuoeHowv5Io"
      },
      "execution_count": null,
      "outputs": []
    },
    {
      "cell_type": "markdown",
      "source": [
        "Q.22 Create a code that prompts the user to enter two sets of integers separated by commas. Then, print the\n",
        "intersection of these two sets."
      ],
      "metadata": {
        "id": "MkbCcPvRwBL4"
      }
    },
    {
      "cell_type": "code",
      "source": [
        "def get_set_from_input(prompt):\n",
        "    user_input = input(prompt)\n",
        "    return set(map(int, user_input.split(',')))\n",
        "\n",
        "# Prompt user for input\n",
        "set1 = get_set_from_input(\"Enter the first set of integers (separated by commas): \")\n",
        "set2 = get_set_from_input(\"Enter the second set of integers (separated by commas): \")\n",
        "\n",
        "# Calculate intersection\n",
        "intersection = set1 & set2\n",
        "\n",
        "# Print the result\n",
        "print(\"The intersection of the two sets is:\", intersection)"
      ],
      "metadata": {
        "id": "s-QrlvTdwTjI"
      },
      "execution_count": null,
      "outputs": []
    },
    {
      "cell_type": "markdown",
      "source": [
        "Q.23 Write a code to concatenate two tuples. The function should take two tuples as input and return a new\n",
        "tuple containing elements from both input tuples."
      ],
      "metadata": {
        "id": "L_hSbWKxwY5W"
      }
    },
    {
      "cell_type": "code",
      "source": [
        "def concatenate_tuples(tuple1, tuple2):\n",
        "    return tuple1 + tuple2\n",
        "\n",
        "# Example usage\n",
        "tuple1 = (1, 2, 3)\n",
        "tuple2 = (4, 5, 6)\n",
        "result = concatenate_tuples(tuple1, tuple2)\n",
        "print(result)  # Output: (1, 2, 3, 4, 5, 6)"
      ],
      "metadata": {
        "id": "OLhaUcmzwj9N"
      },
      "execution_count": null,
      "outputs": []
    },
    {
      "cell_type": "markdown",
      "source": [
        "Q.24 Develop a code that prompts the user to input two sets of strings. Then, print the elements that are\n",
        "present in the first set but not in the second set."
      ],
      "metadata": {
        "id": "qO3StydzwubG"
      }
    },
    {
      "cell_type": "code",
      "source": [
        "def get_set_from_input(prompt):\n",
        "    user_input = input(prompt)\n",
        "    return set(user_input.split(','))\n",
        "\n",
        "# Prompt user for input\n",
        "set1 = get_set_from_input(\"Enter the first set of strings (separated by commas): \")\n",
        "set2 = get_set_from_input(\"Enter the second set of strings (separated by commas): \")\n",
        "\n",
        "# Calculate difference\n",
        "difference = set1 - set2\n",
        "\n",
        "# Print the result\n",
        "print(\"Elements in the first set but not in the second set:\", difference)"
      ],
      "metadata": {
        "id": "RCUlO0Stw50X"
      },
      "execution_count": null,
      "outputs": []
    },
    {
      "cell_type": "markdown",
      "source": [],
      "metadata": {
        "id": "KRsm-VdfxUIE"
      }
    },
    {
      "cell_type": "markdown",
      "source": [
        "Q.25 Create a code that takes a tuple and two integers as input. The function should return a new tuple\n",
        "containing elements from the original tuple within the specified range of indices."
      ],
      "metadata": {
        "id": "NHel61d3xWx4"
      }
    },
    {
      "cell_type": "code",
      "source": [
        "def slice_tuple(original_tuple, start_index, end_index):\n",
        "    return original_tuple[start_index:end_index]\n",
        "\n",
        "# Example usage\n",
        "input_tuple = (10, 20, 30, 40, 50, 60)\n",
        "start = 1\n",
        "end = 4\n",
        "result = slice_tuple(input_tuple, start, end)\n",
        "print(result)  # Output: (20, 30, 40)"
      ],
      "metadata": {
        "id": "I8jR-5JCxqKf"
      },
      "execution_count": null,
      "outputs": []
    },
    {
      "cell_type": "markdown",
      "source": [
        "Q.26 Write a code that prompts the user to input two sets of characters. Then, print the union of these two sets."
      ],
      "metadata": {
        "id": "WuHOvrXyxrdf"
      }
    },
    {
      "cell_type": "code",
      "source": [
        "def get_set_from_input(prompt):\n",
        "    user_input = input(prompt)\n",
        "    return set(user_input)\n",
        "\n",
        "# Prompt user for input\n",
        "set1 = get_set_from_input(\"Enter the first set of characters: \")\n",
        "set2 = get_set_from_input(\"Enter the second set of characters: \")\n",
        "\n",
        "# Calculate union\n",
        "union_set = set1 | set2\n",
        "\n",
        "# Print the result\n",
        "print(\"The union of the two sets is:\", union_set)"
      ],
      "metadata": {
        "id": "bAyyk_tbxy_i"
      },
      "execution_count": null,
      "outputs": []
    },
    {
      "cell_type": "markdown",
      "source": [
        "Q.27 Develop a code that takes a tuple of integers as input. The function should return the maximum and\n",
        "minimum values from the tuple using tuple unpacking."
      ],
      "metadata": {
        "id": "B5H_pvpox-SH"
      }
    },
    {
      "cell_type": "code",
      "source": [
        "def min_max_tuple(input_tuple):\n",
        "    # Using built-in functions to find min and max\n",
        "    min_value = min(input_tuple)\n",
        "    max_value = max(input_tuple)\n",
        "    return min_value, max_value  # Return as a tuple\n",
        "\n",
        "# Example usage\n",
        "input_tuple = (10, 20, 5, 40, 15)\n",
        "min_value, max_value = min_max_tuple(input_tuple)\n",
        "print(f\"Minimum: {min_value}, Maximum: {max_value}\")  # Output: Minimum: 5, Maximum: 40"
      ],
      "metadata": {
        "id": "4pPeOW0cyGdu"
      },
      "execution_count": null,
      "outputs": []
    },
    {
      "cell_type": "markdown",
      "source": [
        "Q.28 Create a code that defines two sets of integers. Then, print the union, intersection, and difference of these\n",
        "two sets."
      ],
      "metadata": {
        "id": "59qk8_ovyU6I"
      }
    },
    {
      "cell_type": "code",
      "source": [
        "# Define two sets of integers\n",
        "set1 = {1, 2, 3, 4, 5}\n",
        "set2 = {4, 5, 6, 7, 8}\n",
        "\n",
        "# Calculate union, intersection, and difference\n",
        "union_set = set1 | set2\n",
        "intersection_set = set1 & set2\n",
        "difference_set = set1 - set2\n",
        "\n",
        "# Print the results\n",
        "print(\"Union:\", union_set)            # Output: Union: {1, 2, 3, 4, 5, 6, 7, 8}\n",
        "print(\"Intersection:\", intersection_set)  # Output: Intersection: {4, 5}\n",
        "print(\"Difference (set1 - set2):\", difference_set)  # Output: Difference (set1 - set2): {1, 2, 3}"
      ],
      "metadata": {
        "id": "i_HOUkQ6yekb"
      },
      "execution_count": null,
      "outputs": []
    },
    {
      "cell_type": "markdown",
      "source": [
        "Q.29 Write a code that takes a tuple and an element as input. The function should return the count of\n",
        "occurrences of the given element in the tuple."
      ],
      "metadata": {
        "id": "JyQiDSlsyoph"
      }
    },
    {
      "cell_type": "code",
      "source": [
        "def count_occurrences(input_tuple, element):\n",
        "    return input_tuple.count(element)\n",
        "\n",
        "# Example usage\n",
        "input_tuple = (1, 2, 3, 4, 5, 2, 2)\n",
        "element = 2\n",
        "count = count_occurrences(input_tuple, element)\n",
        "print(f\"The element {element} occurs {count} times in the tuple.\")  # Output: The element 2 occurs 3 times in the tuple."
      ],
      "metadata": {
        "id": "Qms9DNO6yvDj"
      },
      "execution_count": null,
      "outputs": []
    },
    {
      "cell_type": "markdown",
      "source": [
        "Q.30 & Develop a code that prompts the user to input two sets of strings. Then, print the symmetric difference of\n",
        "these two sets."
      ],
      "metadata": {
        "id": "I3VSOcWIy2gR"
      }
    },
    {
      "cell_type": "code",
      "source": [
        "def get_set_from_input(prompt):\n",
        "    user_input = input(prompt)\n",
        "    return set(user_input.split(','))\n",
        "\n",
        "# Prompt user for input\n",
        "set1 = get_set_from_input(\"Enter the first set of strings (separated by commas): \")\n",
        "set2 = get_set_from_input(\"Enter the second set of strings (separated by commas): \")\n",
        "\n",
        "# Calculate symmetric difference\n",
        "symmetric_difference = set1 ^ set2\n",
        "\n",
        "# Print the result\n",
        "print(\"The symmetric difference of the two sets is:\", symmetric_difference)"
      ],
      "metadata": {
        "id": "N1B1Ofw7y8EW"
      },
      "execution_count": null,
      "outputs": []
    },
    {
      "cell_type": "markdown",
      "source": [
        "Q.31 Write a code that takes a list of words as input and returns a dictionary where the keys are unique words\n",
        "and the values are the frequencies of those words in the input list."
      ],
      "metadata": {
        "id": "B0EaDOCtzHEh"
      }
    },
    {
      "cell_type": "code",
      "source": [
        "def word_frequencies(word_list):\n",
        "    frequency_dict = {}\n",
        "    for word in word_list:\n",
        "        frequency_dict[word] = frequency_dict.get(word, 0) + 1\n",
        "    return frequency_dict\n",
        "\n",
        "# Example usage\n",
        "input_list = input(\"Enter a list of words (separated by spaces): \").split()\n",
        "result = word_frequencies(input_list)\n",
        "print(result)  # Output: Dictionary of word frequencies"
      ],
      "metadata": {
        "id": "nTCzXQbRzPpm"
      },
      "execution_count": null,
      "outputs": []
    },
    {
      "cell_type": "markdown",
      "source": [
        "Q.32 Write a code that takes two dictionaries as input and merges them into a single dictionary. If there are\n",
        "common keys, the values should be added together."
      ],
      "metadata": {
        "id": "axvPvM2VzYcu"
      }
    },
    {
      "cell_type": "code",
      "source": [
        "def merge_dictionaries(dict1, dict2):\n",
        "    merged_dict = dict1.copy()  # Start with the first dictionary\n",
        "    for key, value in dict2.items():\n",
        "        if key in merged_dict:\n",
        "            merged_dict[key] += value  # Add values for common keys\n",
        "        else:\n",
        "            merged_dict[key] = value  # Add new key-value pairs\n",
        "    return merged_dict\n",
        "\n",
        "# Example usage\n",
        "dict1 = {'a': 1, 'b': 2, 'c': 3}\n",
        "dict2 = {'b': 3, 'c': 4, 'd': 5}\n",
        "result = merge_dictionaries(dict1, dict2)\n",
        "print(result)  # Output: {'a': 1, 'b': 5, 'c': 7, 'd': 5}"
      ],
      "metadata": {
        "id": "a8RqnDDtz19n"
      },
      "execution_count": null,
      "outputs": []
    },
    {
      "cell_type": "markdown",
      "source": [
        "Q.33 Write a code to access a value in a nested dictionary. The function should take the dictionary and a list of\n",
        "keys as input, and return the corresponding value. If any of the keys do not exist in the dictionary, the\n",
        "function should return None."
      ],
      "metadata": {
        "id": "--jL1urX0Cj7"
      }
    },
    {
      "cell_type": "code",
      "source": [
        "def access_nested_dict(nested_dict, keys):\n",
        "    current_value = nested_dict\n",
        "    for key in keys:\n",
        "        if key in current_value:\n",
        "            current_value = current_value[key]\n",
        "        else:\n",
        "            return None  # Return None if any key does not exist\n",
        "    return current_value\n",
        "\n",
        "# Example usage\n",
        "nested_dict = {\n",
        "    'a': {\n",
        "        'b': {\n",
        "            'c': 42\n",
        "        }\n",
        "    }\n",
        "}\n",
        "\n",
        "keys = ['a', 'b', 'c']\n",
        "result = access_nested_dict(nested_dict, keys)\n",
        "print(result)  # Output: None\n",
        "\n",
        "keys = ['a', 'b']\n",
        "result = access_nested_dict(nested_dict, keys)\n",
        "print(result)  # Output: {'c': 42}\n",
        "\n",
        "keys = ['a', 'b', 'c']\n",
        "result = access_nested_dict(nested_dict, keys)\n",
        "print(result)  # Output: 42"
      ],
      "metadata": {
        "id": "vF0H4uE40Jg5"
      },
      "execution_count": null,
      "outputs": []
    },
    {
      "cell_type": "markdown",
      "source": [
        "Q.34 Write a code that takes a dictionary as input and returns a sorted version of it based on the values. You\n",
        "can choose whether to sort in ascending or descending order."
      ],
      "metadata": {
        "id": "RkXZpju10YGF"
      }
    },
    {
      "cell_type": "code",
      "source": [
        "def sort_dictionary(input_dict, ascending=True):\n",
        "    return dict(sorted(input_dict.items(), key=lambda item: item[1], reverse=not ascending))\n",
        "\n",
        "# Example usage\n",
        "input_dict = {'a': 3, 'b': 1, 'c': 2}\n",
        "sorted_dict_asc = sort_dictionary(input_dict, ascending=True)\n",
        "sorted_dict_desc = sort_dictionary(input_dict, ascending=False)\n",
        "\n",
        "print(\"Sorted in ascending order:\", sorted_dict_asc)  # Output: {'b': 1, 'c': 2, 'a': 3}\n",
        "print(\"Sorted in descending order:\", sorted_dict_desc)  # Output: {'a': 3, 'c': 2, 'b': 1}"
      ],
      "metadata": {
        "id": "K8fIm3eq0gCp"
      },
      "execution_count": null,
      "outputs": []
    },
    {
      "cell_type": "markdown",
      "source": [
        "Q.35 Write a code that inverts a dictionary, swapping keys and values. Ensure that the inverted dictionary\n",
        "correctly handles cases where multiple keys have the same value by storing the keys as a list in the\n",
        "inverted dictionary."
      ],
      "metadata": {
        "id": "1QCZ3SNd0p3V"
      }
    },
    {
      "cell_type": "code",
      "source": [
        "def invert_dictionary(input_dict):\n",
        "    inverted_dict = {}\n",
        "    for key, value in input_dict.items():\n",
        "        if value in inverted_dict:\n",
        "            inverted_dict[value].append(key)  # Append to the list if value already exists\n",
        "        else:\n",
        "            inverted_dict[value] = [key]  # Create a new list for the value\n",
        "    return inverted_dict\n",
        "\n",
        "# Example usage\n",
        "input_dict = {'a': 1, 'b': 2, 'c': 1, 'd': 3}\n",
        "inverted_dict = invert_dictionary(input_dict)\n",
        "print(inverted_dict)  # Output: {1: ['a', 'c'], 2: ['b'], 3: ['d']}"
      ],
      "metadata": {
        "id": "fRcqfmQm0u0m"
      },
      "execution_count": null,
      "outputs": []
    },
    {
      "cell_type": "code",
      "source": [],
      "metadata": {
        "id": "Dm_LvO3ayb5a"
      },
      "execution_count": null,
      "outputs": []
    }
  ]
}